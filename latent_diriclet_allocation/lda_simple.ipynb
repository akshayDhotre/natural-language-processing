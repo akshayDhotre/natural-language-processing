{
 "cells": [
  {
   "cell_type": "code",
   "execution_count": 12,
   "metadata": {},
   "outputs": [],
   "source": [
    "import nltk\n",
    "import pandas as pd\n",
    "import re\n",
    "import string\n",
    "pd.set_option('display.max_colwidth', 100)\n",
    "stopwords = nltk.corpus.stopwords.words('english')"
   ]
  },
  {
   "cell_type": "code",
   "execution_count": 13,
   "metadata": {},
   "outputs": [],
   "source": [
    "data = pd.read_csv('yelp.csv')"
   ]
  },
  {
   "cell_type": "code",
   "execution_count": 14,
   "metadata": {},
   "outputs": [
    {
     "data": {
      "text/plain": [
       "Index(['business_id', 'date', 'review_id', 'stars', 'text', 'type', 'user_id',\n",
       "       'cool', 'useful', 'funny'],\n",
       "      dtype='object')"
      ]
     },
     "execution_count": 14,
     "metadata": {},
     "output_type": "execute_result"
    }
   ],
   "source": [
    "data.columns"
   ]
  },
  {
   "cell_type": "code",
   "execution_count": 15,
   "metadata": {},
   "outputs": [],
   "source": [
    "data = data.drop(['business_id', 'date', 'review_id', 'type', 'user_id'], axis=1)"
   ]
  },
  {
   "cell_type": "code",
   "execution_count": 16,
   "metadata": {},
   "outputs": [
    {
     "data": {
      "text/html": [
       "<div>\n",
       "<style scoped>\n",
       "    .dataframe tbody tr th:only-of-type {\n",
       "        vertical-align: middle;\n",
       "    }\n",
       "\n",
       "    .dataframe tbody tr th {\n",
       "        vertical-align: top;\n",
       "    }\n",
       "\n",
       "    .dataframe thead th {\n",
       "        text-align: right;\n",
       "    }\n",
       "</style>\n",
       "<table border=\"1\" class=\"dataframe\">\n",
       "  <thead>\n",
       "    <tr style=\"text-align: right;\">\n",
       "      <th></th>\n",
       "      <th>stars</th>\n",
       "      <th>text</th>\n",
       "      <th>cool</th>\n",
       "      <th>useful</th>\n",
       "      <th>funny</th>\n",
       "    </tr>\n",
       "  </thead>\n",
       "  <tbody>\n",
       "    <tr>\n",
       "      <th>0</th>\n",
       "      <td>5</td>\n",
       "      <td>My wife took me here on my birthday for breakfast and it was excellent.  The weather was perfect...</td>\n",
       "      <td>2</td>\n",
       "      <td>5</td>\n",
       "      <td>0</td>\n",
       "    </tr>\n",
       "    <tr>\n",
       "      <th>1</th>\n",
       "      <td>5</td>\n",
       "      <td>I have no idea why some people give bad reviews about this place. It goes to show you, you can p...</td>\n",
       "      <td>0</td>\n",
       "      <td>0</td>\n",
       "      <td>0</td>\n",
       "    </tr>\n",
       "    <tr>\n",
       "      <th>2</th>\n",
       "      <td>4</td>\n",
       "      <td>love the gyro plate. Rice is so good and I also dig their candy selection :)</td>\n",
       "      <td>0</td>\n",
       "      <td>1</td>\n",
       "      <td>0</td>\n",
       "    </tr>\n",
       "    <tr>\n",
       "      <th>3</th>\n",
       "      <td>5</td>\n",
       "      <td>Rosie, Dakota, and I LOVE Chaparral Dog Park!!! It's very convenient and surrounded by a lot of ...</td>\n",
       "      <td>1</td>\n",
       "      <td>2</td>\n",
       "      <td>0</td>\n",
       "    </tr>\n",
       "    <tr>\n",
       "      <th>4</th>\n",
       "      <td>5</td>\n",
       "      <td>General Manager Scott Petello is a good egg!!! Not to go into detail, but let me assure you if y...</td>\n",
       "      <td>0</td>\n",
       "      <td>0</td>\n",
       "      <td>0</td>\n",
       "    </tr>\n",
       "  </tbody>\n",
       "</table>\n",
       "</div>"
      ],
      "text/plain": [
       "   stars  \\\n",
       "0      5   \n",
       "1      5   \n",
       "2      4   \n",
       "3      5   \n",
       "4      5   \n",
       "\n",
       "                                                                                                  text  \\\n",
       "0  My wife took me here on my birthday for breakfast and it was excellent.  The weather was perfect...   \n",
       "1  I have no idea why some people give bad reviews about this place. It goes to show you, you can p...   \n",
       "2                         love the gyro plate. Rice is so good and I also dig their candy selection :)   \n",
       "3  Rosie, Dakota, and I LOVE Chaparral Dog Park!!! It's very convenient and surrounded by a lot of ...   \n",
       "4  General Manager Scott Petello is a good egg!!! Not to go into detail, but let me assure you if y...   \n",
       "\n",
       "   cool  useful  funny  \n",
       "0     2       5      0  \n",
       "1     0       0      0  \n",
       "2     0       1      0  \n",
       "3     1       2      0  \n",
       "4     0       0      0  "
      ]
     },
     "execution_count": 16,
     "metadata": {},
     "output_type": "execute_result"
    }
   ],
   "source": [
    "data.head()"
   ]
  },
  {
   "cell_type": "markdown",
   "metadata": {},
   "source": [
    "## Clean text"
   ]
  },
  {
   "cell_type": "code",
   "execution_count": 22,
   "metadata": {},
   "outputs": [],
   "source": [
    "def clean_text(text):\n",
    "    text = ''.join([word for word in text if word not in string.punctuation])\n",
    "    tokens = re.split('\\W+', text)\n",
    "    text = [word for word in tokens if word not in stopwords]\n",
    "    return text"
   ]
  },
  {
   "cell_type": "code",
   "execution_count": 24,
   "metadata": {},
   "outputs": [
    {
     "data": {
      "text/html": [
       "<div>\n",
       "<style scoped>\n",
       "    .dataframe tbody tr th:only-of-type {\n",
       "        vertical-align: middle;\n",
       "    }\n",
       "\n",
       "    .dataframe tbody tr th {\n",
       "        vertical-align: top;\n",
       "    }\n",
       "\n",
       "    .dataframe thead th {\n",
       "        text-align: right;\n",
       "    }\n",
       "</style>\n",
       "<table border=\"1\" class=\"dataframe\">\n",
       "  <thead>\n",
       "    <tr style=\"text-align: right;\">\n",
       "      <th></th>\n",
       "      <th>stars</th>\n",
       "      <th>text</th>\n",
       "      <th>cool</th>\n",
       "      <th>useful</th>\n",
       "      <th>funny</th>\n",
       "      <th>clean_text</th>\n",
       "    </tr>\n",
       "  </thead>\n",
       "  <tbody>\n",
       "    <tr>\n",
       "      <th>0</th>\n",
       "      <td>5</td>\n",
       "      <td>My wife took me here on my birthday for breakfast and it was excellent.  The weather was perfect...</td>\n",
       "      <td>2</td>\n",
       "      <td>5</td>\n",
       "      <td>0</td>\n",
       "      <td>[wife, took, birthday, breakfast, excellent, weather, perfect, made, sitting, outside, overlooki...</td>\n",
       "    </tr>\n",
       "    <tr>\n",
       "      <th>1</th>\n",
       "      <td>5</td>\n",
       "      <td>I have no idea why some people give bad reviews about this place. It goes to show you, you can p...</td>\n",
       "      <td>0</td>\n",
       "      <td>0</td>\n",
       "      <td>0</td>\n",
       "      <td>[idea, people, give, bad, reviews, place, goes, show, please, everyone, probably, griping, somet...</td>\n",
       "    </tr>\n",
       "    <tr>\n",
       "      <th>2</th>\n",
       "      <td>4</td>\n",
       "      <td>love the gyro plate. Rice is so good and I also dig their candy selection :)</td>\n",
       "      <td>0</td>\n",
       "      <td>1</td>\n",
       "      <td>0</td>\n",
       "      <td>[love, gyro, plate, rice, good, also, dig, candy, selection, ]</td>\n",
       "    </tr>\n",
       "    <tr>\n",
       "      <th>3</th>\n",
       "      <td>5</td>\n",
       "      <td>Rosie, Dakota, and I LOVE Chaparral Dog Park!!! It's very convenient and surrounded by a lot of ...</td>\n",
       "      <td>1</td>\n",
       "      <td>2</td>\n",
       "      <td>0</td>\n",
       "      <td>[rosie, dakota, love, chaparral, dog, park, convenient, surrounded, lot, paths, desert, xeriscap...</td>\n",
       "    </tr>\n",
       "    <tr>\n",
       "      <th>4</th>\n",
       "      <td>5</td>\n",
       "      <td>General Manager Scott Petello is a good egg!!! Not to go into detail, but let me assure you if y...</td>\n",
       "      <td>0</td>\n",
       "      <td>0</td>\n",
       "      <td>0</td>\n",
       "      <td>[general, manager, scott, petello, good, egg, go, detail, let, assure, issues, albeit, rare, spe...</td>\n",
       "    </tr>\n",
       "  </tbody>\n",
       "</table>\n",
       "</div>"
      ],
      "text/plain": [
       "   stars  \\\n",
       "0      5   \n",
       "1      5   \n",
       "2      4   \n",
       "3      5   \n",
       "4      5   \n",
       "\n",
       "                                                                                                  text  \\\n",
       "0  My wife took me here on my birthday for breakfast and it was excellent.  The weather was perfect...   \n",
       "1  I have no idea why some people give bad reviews about this place. It goes to show you, you can p...   \n",
       "2                         love the gyro plate. Rice is so good and I also dig their candy selection :)   \n",
       "3  Rosie, Dakota, and I LOVE Chaparral Dog Park!!! It's very convenient and surrounded by a lot of ...   \n",
       "4  General Manager Scott Petello is a good egg!!! Not to go into detail, but let me assure you if y...   \n",
       "\n",
       "   cool  useful  funny  \\\n",
       "0     2       5      0   \n",
       "1     0       0      0   \n",
       "2     0       1      0   \n",
       "3     1       2      0   \n",
       "4     0       0      0   \n",
       "\n",
       "                                                                                            clean_text  \n",
       "0  [wife, took, birthday, breakfast, excellent, weather, perfect, made, sitting, outside, overlooki...  \n",
       "1  [idea, people, give, bad, reviews, place, goes, show, please, everyone, probably, griping, somet...  \n",
       "2                                       [love, gyro, plate, rice, good, also, dig, candy, selection, ]  \n",
       "3  [rosie, dakota, love, chaparral, dog, park, convenient, surrounded, lot, paths, desert, xeriscap...  \n",
       "4  [general, manager, scott, petello, good, egg, go, detail, let, assure, issues, albeit, rare, spe...  "
      ]
     },
     "execution_count": 24,
     "metadata": {},
     "output_type": "execute_result"
    }
   ],
   "source": [
    "data['clean_text'] = data['text'].apply(lambda x: clean_text(x.lower()))\n",
    "data.head()"
   ]
  },
  {
   "cell_type": "markdown",
   "metadata": {},
   "source": [
    "## stemmed text"
   ]
  },
  {
   "cell_type": "code",
   "execution_count": 25,
   "metadata": {},
   "outputs": [],
   "source": [
    "from nltk import PorterStemmer\n",
    "\n",
    "ps = PorterStemmer()\n",
    "\n",
    "def stemming_text(tokenized_text):\n",
    "    text = [ps.stem(word) for word in tokenized_text]\n",
    "    return text"
   ]
  },
  {
   "cell_type": "code",
   "execution_count": 26,
   "metadata": {},
   "outputs": [
    {
     "data": {
      "text/html": [
       "<div>\n",
       "<style scoped>\n",
       "    .dataframe tbody tr th:only-of-type {\n",
       "        vertical-align: middle;\n",
       "    }\n",
       "\n",
       "    .dataframe tbody tr th {\n",
       "        vertical-align: top;\n",
       "    }\n",
       "\n",
       "    .dataframe thead th {\n",
       "        text-align: right;\n",
       "    }\n",
       "</style>\n",
       "<table border=\"1\" class=\"dataframe\">\n",
       "  <thead>\n",
       "    <tr style=\"text-align: right;\">\n",
       "      <th></th>\n",
       "      <th>stars</th>\n",
       "      <th>text</th>\n",
       "      <th>cool</th>\n",
       "      <th>useful</th>\n",
       "      <th>funny</th>\n",
       "      <th>clean_text</th>\n",
       "      <th>stemmed_clean_text</th>\n",
       "    </tr>\n",
       "  </thead>\n",
       "  <tbody>\n",
       "    <tr>\n",
       "      <th>0</th>\n",
       "      <td>5</td>\n",
       "      <td>My wife took me here on my birthday for breakfast and it was excellent.  The weather was perfect...</td>\n",
       "      <td>2</td>\n",
       "      <td>5</td>\n",
       "      <td>0</td>\n",
       "      <td>[wife, took, birthday, breakfast, excellent, weather, perfect, made, sitting, outside, overlooki...</td>\n",
       "      <td>[wife, took, birthday, breakfast, excel, weather, perfect, made, sit, outsid, overlook, ground, ...</td>\n",
       "    </tr>\n",
       "    <tr>\n",
       "      <th>1</th>\n",
       "      <td>5</td>\n",
       "      <td>I have no idea why some people give bad reviews about this place. It goes to show you, you can p...</td>\n",
       "      <td>0</td>\n",
       "      <td>0</td>\n",
       "      <td>0</td>\n",
       "      <td>[idea, people, give, bad, reviews, place, goes, show, please, everyone, probably, griping, somet...</td>\n",
       "      <td>[idea, peopl, give, bad, review, place, goe, show, pleas, everyon, probabl, gripe, someth, fault...</td>\n",
       "    </tr>\n",
       "    <tr>\n",
       "      <th>2</th>\n",
       "      <td>4</td>\n",
       "      <td>love the gyro plate. Rice is so good and I also dig their candy selection :)</td>\n",
       "      <td>0</td>\n",
       "      <td>1</td>\n",
       "      <td>0</td>\n",
       "      <td>[love, gyro, plate, rice, good, also, dig, candy, selection, ]</td>\n",
       "      <td>[love, gyro, plate, rice, good, also, dig, candi, select, ]</td>\n",
       "    </tr>\n",
       "    <tr>\n",
       "      <th>3</th>\n",
       "      <td>5</td>\n",
       "      <td>Rosie, Dakota, and I LOVE Chaparral Dog Park!!! It's very convenient and surrounded by a lot of ...</td>\n",
       "      <td>1</td>\n",
       "      <td>2</td>\n",
       "      <td>0</td>\n",
       "      <td>[rosie, dakota, love, chaparral, dog, park, convenient, surrounded, lot, paths, desert, xeriscap...</td>\n",
       "      <td>[rosi, dakota, love, chaparr, dog, park, conveni, surround, lot, path, desert, xeriscap, basebal...</td>\n",
       "    </tr>\n",
       "    <tr>\n",
       "      <th>4</th>\n",
       "      <td>5</td>\n",
       "      <td>General Manager Scott Petello is a good egg!!! Not to go into detail, but let me assure you if y...</td>\n",
       "      <td>0</td>\n",
       "      <td>0</td>\n",
       "      <td>0</td>\n",
       "      <td>[general, manager, scott, petello, good, egg, go, detail, let, assure, issues, albeit, rare, spe...</td>\n",
       "      <td>[gener, manag, scott, petello, good, egg, go, detail, let, assur, issu, albeit, rare, speak, sco...</td>\n",
       "    </tr>\n",
       "  </tbody>\n",
       "</table>\n",
       "</div>"
      ],
      "text/plain": [
       "   stars  \\\n",
       "0      5   \n",
       "1      5   \n",
       "2      4   \n",
       "3      5   \n",
       "4      5   \n",
       "\n",
       "                                                                                                  text  \\\n",
       "0  My wife took me here on my birthday for breakfast and it was excellent.  The weather was perfect...   \n",
       "1  I have no idea why some people give bad reviews about this place. It goes to show you, you can p...   \n",
       "2                         love the gyro plate. Rice is so good and I also dig their candy selection :)   \n",
       "3  Rosie, Dakota, and I LOVE Chaparral Dog Park!!! It's very convenient and surrounded by a lot of ...   \n",
       "4  General Manager Scott Petello is a good egg!!! Not to go into detail, but let me assure you if y...   \n",
       "\n",
       "   cool  useful  funny  \\\n",
       "0     2       5      0   \n",
       "1     0       0      0   \n",
       "2     0       1      0   \n",
       "3     1       2      0   \n",
       "4     0       0      0   \n",
       "\n",
       "                                                                                            clean_text  \\\n",
       "0  [wife, took, birthday, breakfast, excellent, weather, perfect, made, sitting, outside, overlooki...   \n",
       "1  [idea, people, give, bad, reviews, place, goes, show, please, everyone, probably, griping, somet...   \n",
       "2                                       [love, gyro, plate, rice, good, also, dig, candy, selection, ]   \n",
       "3  [rosie, dakota, love, chaparral, dog, park, convenient, surrounded, lot, paths, desert, xeriscap...   \n",
       "4  [general, manager, scott, petello, good, egg, go, detail, let, assure, issues, albeit, rare, spe...   \n",
       "\n",
       "                                                                                    stemmed_clean_text  \n",
       "0  [wife, took, birthday, breakfast, excel, weather, perfect, made, sit, outsid, overlook, ground, ...  \n",
       "1  [idea, peopl, give, bad, review, place, goe, show, pleas, everyon, probabl, gripe, someth, fault...  \n",
       "2                                          [love, gyro, plate, rice, good, also, dig, candi, select, ]  \n",
       "3  [rosi, dakota, love, chaparr, dog, park, conveni, surround, lot, path, desert, xeriscap, basebal...  \n",
       "4  [gener, manag, scott, petello, good, egg, go, detail, let, assur, issu, albeit, rare, speak, sco...  "
      ]
     },
     "execution_count": 26,
     "metadata": {},
     "output_type": "execute_result"
    }
   ],
   "source": [
    "data['stemmed_clean_text'] = data['clean_text'].apply(lambda x: stemming_text(x))\n",
    "data.head()"
   ]
  },
  {
   "cell_type": "markdown",
   "metadata": {},
   "source": [
    "## lemmetized text"
   ]
  },
  {
   "cell_type": "code",
   "execution_count": 27,
   "metadata": {},
   "outputs": [],
   "source": [
    "from nltk import WordNetLemmatizer\n",
    "\n",
    "wn = WordNetLemmatizer()\n",
    "\n",
    "def lemmetizing_text(tokenized_text):\n",
    "    text = [wn.lemmatize(word) for word in tokenized_text]\n",
    "    return text"
   ]
  },
  {
   "cell_type": "markdown",
   "metadata": {},
   "source": [
    "## converting text to bag of words"
   ]
  },
  {
   "cell_type": "code",
   "execution_count": 28,
   "metadata": {},
   "outputs": [],
   "source": [
    "import gensim"
   ]
  },
  {
   "cell_type": "code",
   "execution_count": 29,
   "metadata": {},
   "outputs": [],
   "source": [
    "dictionary = gensim.corpora.Dictionary(documents=data['stemmed_clean_text'])"
   ]
  },
  {
   "cell_type": "code",
   "execution_count": 35,
   "metadata": {},
   "outputs": [],
   "source": [
    "bow_corpus = [dictionary.doc2bow(doc) for doc in data['stemmed_clean_text']]"
   ]
  },
  {
   "cell_type": "code",
   "execution_count": 37,
   "metadata": {},
   "outputs": [],
   "source": [
    "lda_model =  gensim.models.LdaMulticore(bow_corpus, \n",
    "                                   num_topics = 8, \n",
    "                                   id2word = dictionary,                                    \n",
    "                                   passes = 10,\n",
    "                                   workers = 2)"
   ]
  },
  {
   "cell_type": "code",
   "execution_count": 38,
   "metadata": {},
   "outputs": [
    {
     "name": "stdout",
     "output_type": "stream",
     "text": [
      "Topic: 0 \n",
      "Words: 0.009*\"time\" + 0.009*\"get\" + 0.008*\"go\" + 0.007*\"one\" + 0.006*\"like\" + 0.006*\"would\" + 0.006*\"place\" + 0.006*\"us\" + 0.006*\"servic\" + 0.005*\"back\"\n",
      "\n",
      "\n",
      "Topic: 1 \n",
      "Words: 0.007*\"go\" + 0.007*\"drink\" + 0.007*\"coffe\" + 0.007*\"like\" + 0.006*\"great\" + 0.006*\"love\" + 0.006*\"one\" + 0.006*\"get\" + 0.006*\"good\" + 0.005*\"would\"\n",
      "\n",
      "\n",
      "Topic: 2 \n",
      "Words: 0.018*\"dog\" + 0.006*\"get\" + 0.006*\"like\" + 0.005*\"go\" + 0.004*\"dont\" + 0.004*\"movi\" + 0.004*\"would\" + 0.003*\"hot\" + 0.003*\"one\" + 0.003*\"think\"\n",
      "\n",
      "\n",
      "Topic: 3 \n",
      "Words: 0.007*\"place\" + 0.007*\"like\" + 0.006*\"park\" + 0.006*\"get\" + 0.005*\"go\" + 0.005*\"even\" + 0.004*\"game\" + 0.004*\"phoenix\" + 0.004*\"say\" + 0.004*\"stadium\"\n",
      "\n",
      "\n",
      "Topic: 4 \n",
      "Words: 0.016*\"pizza\" + 0.011*\"place\" + 0.009*\"great\" + 0.008*\"go\" + 0.008*\"one\" + 0.007*\"best\" + 0.006*\"ive\" + 0.006*\"like\" + 0.006*\"store\" + 0.006*\"get\"\n",
      "\n",
      "\n",
      "Topic: 5 \n",
      "Words: 0.015*\"place\" + 0.014*\"good\" + 0.011*\"like\" + 0.010*\"food\" + 0.009*\"go\" + 0.009*\"breakfast\" + 0.009*\"order\" + 0.008*\"time\" + 0.007*\"get\" + 0.006*\"wait\"\n",
      "\n",
      "\n",
      "Topic: 6 \n",
      "Words: 0.012*\"good\" + 0.009*\"order\" + 0.007*\"like\" + 0.007*\"place\" + 0.007*\"food\" + 0.007*\"great\" + 0.006*\"chees\" + 0.006*\"tri\" + 0.006*\"one\" + 0.006*\"salad\"\n",
      "\n",
      "\n",
      "Topic: 7 \n",
      "Words: 0.023*\"food\" + 0.020*\"place\" + 0.015*\"good\" + 0.014*\"great\" + 0.011*\"like\" + 0.008*\"servic\" + 0.007*\"get\" + 0.007*\"go\" + 0.007*\"time\" + 0.006*\"realli\"\n",
      "\n",
      "\n"
     ]
    }
   ],
   "source": [
    "'''\n",
    "For each topic, we will explore the words occuring in that topic and its relative weight\n",
    "'''\n",
    "for idx, topic in lda_model.print_topics(-1):\n",
    "    print(\"Topic: {} \\nWords: {}\".format(idx, topic ))\n",
    "    print(\"\\n\")"
   ]
  },
  {
   "cell_type": "code",
   "execution_count": 39,
   "metadata": {},
   "outputs": [
    {
     "name": "stdout",
     "output_type": "stream",
     "text": [
      "Score: 0.7076854705810547\t Topic: 0.007*\"go\" + 0.007*\"drink\" + 0.007*\"coffe\" + 0.007*\"like\" + 0.006*\"great\"\n",
      "Score: 0.04181838408112526\t Topic: 0.009*\"time\" + 0.009*\"get\" + 0.008*\"go\" + 0.007*\"one\" + 0.006*\"like\"\n",
      "Score: 0.0418088324368\t Topic: 0.015*\"place\" + 0.014*\"good\" + 0.011*\"like\" + 0.010*\"food\" + 0.009*\"go\"\n",
      "Score: 0.041772469878196716\t Topic: 0.023*\"food\" + 0.020*\"place\" + 0.015*\"good\" + 0.014*\"great\" + 0.011*\"like\"\n",
      "Score: 0.04174960404634476\t Topic: 0.018*\"dog\" + 0.006*\"get\" + 0.006*\"like\" + 0.005*\"go\" + 0.004*\"dont\"\n",
      "Score: 0.041727788746356964\t Topic: 0.012*\"good\" + 0.009*\"order\" + 0.007*\"like\" + 0.007*\"place\" + 0.007*\"food\"\n",
      "Score: 0.041718896478414536\t Topic: 0.016*\"pizza\" + 0.011*\"place\" + 0.009*\"great\" + 0.008*\"go\" + 0.008*\"one\"\n",
      "Score: 0.0417185053229332\t Topic: 0.007*\"place\" + 0.007*\"like\" + 0.006*\"park\" + 0.006*\"get\" + 0.005*\"go\"\n"
     ]
    }
   ],
   "source": [
    "# Data preprocessing step for the unseen document\n",
    "bow_vector = dictionary.doc2bow(clean_text('The movie is worst among all availabe on Amazon.'))\n",
    "\n",
    "for index, score in sorted(lda_model[bow_vector], key=lambda tup: -1*tup[1]):\n",
    "    print(\"Score: {}\\t Topic: {}\".format(score, lda_model.print_topic(index, 5)))"
   ]
  },
  {
   "cell_type": "code",
   "execution_count": 41,
   "metadata": {},
   "outputs": [
    {
     "data": {
      "text/plain": [
       "['admit',\n",
       " 'find',\n",
       " 'think',\n",
       " 'like',\n",
       " 'mine',\n",
       " 'tall',\n",
       " 'dark',\n",
       " 'russian',\n",
       " 'nice',\n",
       " 'coffe',\n",
       " 'shop',\n",
       " 'near',\n",
       " 'that',\n",
       " 'starbuck',\n",
       " 'good',\n",
       " 'coffe',\n",
       " 'reason',\n",
       " 'price',\n",
       " 'far',\n",
       " 'stick',\n",
       " 'hous',\n",
       " 'brew',\n",
       " 'smooth',\n",
       " 'bitter',\n",
       " 'yet',\n",
       " 'sweet',\n",
       " 'sinc',\n",
       " 'fanci',\n",
       " 'coffe',\n",
       " 'drink',\n",
       " 'usual',\n",
       " 'mani',\n",
       " 'calori',\n",
       " 'need',\n",
       " 'tri',\n",
       " 'blueberri',\n",
       " 'muffinquit',\n",
       " 'yummi',\n",
       " 'well',\n",
       " 'chocol',\n",
       " 'chip',\n",
       " 'cooki',\n",
       " 'delici',\n",
       " 'cafe',\n",
       " 'attach',\n",
       " 'great',\n",
       " 'indoor',\n",
       " 'peopl',\n",
       " 'watch',\n",
       " 'brows',\n",
       " 'thru',\n",
       " 'design',\n",
       " 'book',\n",
       " 'take',\n",
       " 'leisur',\n",
       " 'stroll',\n",
       " 'design',\n",
       " 'center',\n",
       " 'great',\n",
       " 'way',\n",
       " 'unwind',\n",
       " 'perk',\n",
       " 'choic',\n",
       " 'caffein',\n",
       " 'beverag']"
      ]
     },
     "execution_count": 41,
     "metadata": {},
     "output_type": "execute_result"
    }
   ],
   "source": [
    "data['stemmed_clean_text'][100]"
   ]
  },
  {
   "cell_type": "code",
   "execution_count": null,
   "metadata": {},
   "outputs": [],
   "source": []
  }
 ],
 "metadata": {
  "kernelspec": {
   "display_name": "Python 3.10.5 ('venv': venv)",
   "language": "python",
   "name": "python3"
  },
  "language_info": {
   "codemirror_mode": {
    "name": "ipython",
    "version": 3
   },
   "file_extension": ".py",
   "mimetype": "text/x-python",
   "name": "python",
   "nbconvert_exporter": "python",
   "pygments_lexer": "ipython3",
   "version": "3.10.5"
  },
  "orig_nbformat": 4,
  "vscode": {
   "interpreter": {
    "hash": "6ecef6946e5bccef602c3184f23805bcf2c730d2289e9a585d9a05ccf4df9973"
   }
  }
 },
 "nbformat": 4,
 "nbformat_minor": 2
}
